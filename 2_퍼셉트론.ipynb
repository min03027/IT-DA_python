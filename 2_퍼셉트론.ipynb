{
  "nbformat": 4,
  "nbformat_minor": 0,
  "metadata": {
    "colab": {
      "provenance": [],
      "collapsed_sections": [],
      "authorship_tag": "ABX9TyNl6NUQGuDJaFbfcytqIslL",
      "include_colab_link": true
    },
    "kernelspec": {
      "name": "python3",
      "display_name": "Python 3"
    },
    "language_info": {
      "name": "python"
    }
  },
  "cells": [
    {
      "cell_type": "markdown",
      "metadata": {
        "id": "view-in-github",
        "colab_type": "text"
      },
      "source": [
        "<a href=\"https://colab.research.google.com/github/min03027/IT-DA_python/blob/main/2_%ED%8D%BC%EC%85%89%ED%8A%B8%EB%A1%A0.ipynb\" target=\"_parent\"><img src=\"https://colab.research.google.com/assets/colab-badge.svg\" alt=\"Open In Colab\"/></a>"
      ]
    },
    {
      "cell_type": "markdown",
      "source": [
        "**퍼셉트론**\n",
        "1957년 프랑크 로젠블라트에 의해 고안된 알고리즘 "
      ],
      "metadata": {
        "id": "RBLil__eUQbO"
      }
    },
    {
      "cell_type": "markdown",
      "source": [
        "퍼셉트론 : 다수의 신호를 받아 하나의 신호를 출력한다. \n",
        "신호 : 전류가 강물처럼 흐름이 있는 것.\n",
        "\n",
        "퍼셉트론은 흐른다 / 흐르지 않는다의 값을 가짐\n",
        "1은' 신호가 흐른다'\n",
        "0은 '신호가 흐르지 않는다.' \n",
        "\n",
        "입력신호와 출력신호를 받거나 보내는 부분을 뉴런 혹은 노드라 부른다. \n",
        "입력신호가 뉴런에 보내질 때에는 가중치가 곱해지며, \n",
        "뉴런의 신호가 임계값을 넘을 때에만 뉴런을 활성화하여 1을 출력한다. "
      ],
      "metadata": {
        "id": "wCTMnoeMUdP9"
      }
    },
    {
      "cell_type": "markdown",
      "source": [
        "퍼셉트론의 복수 입력시에는 저항을 통해 입력신호 각각에 고유한 가중치를 부여한다."
      ],
      "metadata": {
        "id": "q3334pUlVnwO"
      }
    },
    {
      "cell_type": "markdown",
      "source": [
        "AND 게이트 \n",
        ": 입력이 모두 1일때만 1을 출력하고, 그 외에는 0을 출력한다. \n",
        "NAND  게이트\n",
        ": 입력이 모두 1일떄만 0을 출력하고, 그 외에는 1을 출력한다. \n",
        "OR 게이트\n",
        ": 입력이 모두 0일떄는 0을 출력하고, 모두 1일때는 1을 출력함. 이떄 입력값이 다르면 1을 출력함."
      ],
      "metadata": {
        "id": "ZgK-NbiDWCsc"
      }
    },
    {
      "cell_type": "code",
      "source": [
        "def AND(x1,x2):\n",
        "  w1,w2,theta = 0.5,0.5,0.7\n",
        "  tmp = x1*w1 + x2*w2\n",
        "  if tmp<= theta:\n",
        "    return 0\n",
        "  elif tmp > theta:\n",
        "    return 1"
      ],
      "metadata": {
        "id": "nSvMSNeoY22s"
      },
      "execution_count": null,
      "outputs": []
    },
    {
      "cell_type": "markdown",
      "source": [
        "AND 함수 \n",
        "가중치를 곱한 입력의 총합니 임계값을 넘으면 1을 반환, 아닐경우 0을 반환"
      ],
      "metadata": {
        "id": "nmu4vECBZcOk"
      }
    },
    {
      "cell_type": "code",
      "source": [
        "AND(0,0)"
      ],
      "metadata": {
        "colab": {
          "base_uri": "https://localhost:8080/"
        },
        "id": "tdtd-lvAZvsD",
        "outputId": "1e3ce8da-1a8e-4536-c14d-e2afb94e965b"
      },
      "execution_count": null,
      "outputs": [
        {
          "output_type": "execute_result",
          "data": {
            "text/plain": [
              "0"
            ]
          },
          "metadata": {},
          "execution_count": 3
        }
      ]
    },
    {
      "cell_type": "code",
      "source": [
        "AND(1,0)"
      ],
      "metadata": {
        "colab": {
          "base_uri": "https://localhost:8080/"
        },
        "id": "ZfV4cb2sZ1zb",
        "outputId": "d8e25e0f-36ab-4710-c98b-2553fcb21758"
      },
      "execution_count": null,
      "outputs": [
        {
          "output_type": "execute_result",
          "data": {
            "text/plain": [
              "0"
            ]
          },
          "metadata": {},
          "execution_count": 4
        }
      ]
    },
    {
      "cell_type": "code",
      "source": [
        "AND(0,1)"
      ],
      "metadata": {
        "colab": {
          "base_uri": "https://localhost:8080/"
        },
        "id": "WzjpzdPgZ7QT",
        "outputId": "c6d9565a-e0a0-469c-fb92-2b1f1f544d67"
      },
      "execution_count": null,
      "outputs": [
        {
          "output_type": "execute_result",
          "data": {
            "text/plain": [
              "0"
            ]
          },
          "metadata": {},
          "execution_count": 5
        }
      ]
    },
    {
      "cell_type": "code",
      "source": [
        "AND(1,1)"
      ],
      "metadata": {
        "colab": {
          "base_uri": "https://localhost:8080/"
        },
        "id": "7MWF4zYHZ9tL",
        "outputId": "775c6830-b03b-4940-9bfb-bbb739cb4629"
      },
      "execution_count": null,
      "outputs": [
        {
          "output_type": "execute_result",
          "data": {
            "text/plain": [
              "1"
            ]
          },
          "metadata": {},
          "execution_count": 6
        }
      ]
    },
    {
      "cell_type": "markdown",
      "source": [
        "b :편향\n",
        "w1,w2 : 가중치\n",
        "\n",
        "\n"
      ],
      "metadata": {
        "id": "CPNT2z69aQ9d"
      }
    },
    {
      "cell_type": "code",
      "source": [
        "import numpy as np\n",
        "x = np.array([0,1]) #입력\n",
        "w = np.array([0.5,0.5]) #가중치\n",
        "b= -0.7 # 편향\n",
        "w*x"
      ],
      "metadata": {
        "colab": {
          "base_uri": "https://localhost:8080/"
        },
        "id": "wJCd9z-qabeU",
        "outputId": "4f7d8c01-ac95-4771-95fc-ec2619d66d4a"
      },
      "execution_count": null,
      "outputs": [
        {
          "output_type": "execute_result",
          "data": {
            "text/plain": [
              "array([0. , 0.5])"
            ]
          },
          "metadata": {},
          "execution_count": 7
        }
      ]
    },
    {
      "cell_type": "code",
      "source": [
        "np.sum(w*x)"
      ],
      "metadata": {
        "colab": {
          "base_uri": "https://localhost:8080/"
        },
        "id": "ip1EmFSObcCA",
        "outputId": "f1933056-daaf-4709-be4c-fc6e9bca29c9"
      },
      "execution_count": null,
      "outputs": [
        {
          "output_type": "execute_result",
          "data": {
            "text/plain": [
              "0.5"
            ]
          },
          "metadata": {},
          "execution_count": 8
        }
      ]
    },
    {
      "cell_type": "code",
      "source": [
        "np.sum(w*x)+b"
      ],
      "metadata": {
        "colab": {
          "base_uri": "https://localhost:8080/"
        },
        "id": "PBQGIoA8bgZq",
        "outputId": "1d735289-d370-4fdb-fc19-5511cd6968b2"
      },
      "execution_count": null,
      "outputs": [
        {
          "output_type": "execute_result",
          "data": {
            "text/plain": [
              "-0.19999999999999996"
            ]
          },
          "metadata": {},
          "execution_count": 10
        }
      ]
    },
    {
      "cell_type": "markdown",
      "source": [
        "인덱스가 같은 원소끼리 곱함.\n",
        "np.sum은 원소의 총합계산, "
      ],
      "metadata": {
        "id": "OJv8GcJYb6Qk"
      }
    },
    {
      "cell_type": "markdown",
      "source": [
        "가중치와 편향을 도입한 AND 게이트"
      ],
      "metadata": {
        "id": "2y8iFiKUcHoD"
      }
    },
    {
      "cell_type": "code",
      "source": [
        "def AND (x1,x2):\n",
        "  x = np.array([x1,x2])\n",
        "  w = np.array([0.5,0.5])\n",
        "  b = -0.7\n",
        "  tmp = np.sum(w*x)+b\n",
        "  if tmp <=0:\n",
        "    return 0\n",
        "  else:\n",
        "    return 1"
      ],
      "metadata": {
        "id": "WfXaygglbjly"
      },
      "execution_count": null,
      "outputs": []
    },
    {
      "cell_type": "markdown",
      "source": [
        "w1,w2 : 입력신호가 결과에 주는 영향력(중요도)를 조절하는 매개변수, \n",
        "편향 b : 뉴런이 얼마나 쉽게 활성화 하느냐를 조절하는 매개변수."
      ],
      "metadata": {
        "id": "yBfU2hJnd8nN"
      }
    },
    {
      "cell_type": "code",
      "source": [
        "def NAND(x1,x2):\n",
        "  x = np.array([x1,x2])\n",
        "  w = np.array([-0.5,-0.5]) #.AND와의 차이점은 가중치(w,b)\n",
        "  b = 0.7\n",
        "  tmp = np.sum(w*x)+b\n",
        "  if tmp <= 0:\n",
        "    return 0\n",
        "  else:\n",
        "    return 1"
      ],
      "metadata": {
        "id": "5X80V2etdTvb"
      },
      "execution_count": null,
      "outputs": []
    },
    {
      "cell_type": "code",
      "source": [
        "def OR(x1,x2):\n",
        "  x = np.array([x1,x2])\n",
        "  w = np.array([0.5,0.5])\n",
        "  b = -0.2\n",
        "  tmp = np.sum(w*x)+b\n",
        "  if tmp <= 0:\n",
        "    return 0 \n",
        "  else:\n",
        "    return 1"
      ],
      "metadata": {
        "id": "GtzDkRg4ONjD"
      },
      "execution_count": null,
      "outputs": []
    },
    {
      "cell_type": "markdown",
      "source": [
        "XOR 게이트 = 베타적 논리합의 논리 회로\n",
        "게이트를 기반으로 한 선형, 비선형 형태 알아보기\n",
        "XOR게이트를 만들기 위해서는 AND,NAND,OR게이트를 조합해야한다. "
      ],
      "metadata": {
        "id": "hAgqb62sUaAA"
      }
    },
    {
      "cell_type": "code",
      "source": [
        "def XOR(x1,x2):\n",
        "  s1 = NAND(x1,x2)\n",
        "  s2 = OR(x1,x2)\n",
        "  y = AND(s1,s2)\n",
        "  return y"
      ],
      "metadata": {
        "id": "Z6SEIQXHO2Tj"
      },
      "execution_count": null,
      "outputs": []
    },
    {
      "cell_type": "markdown",
      "source": [
        "XOR게이트는 단층퍼셈트론은 표현하지 못한 것을 층을 하나 늘려 구현할 수 있다."
      ],
      "metadata": {
        "id": "e5ZRcK5gQTI-"
      }
    },
    {
      "cell_type": "code",
      "source": [],
      "metadata": {
        "id": "Z3VvVlUnXIe7"
      },
      "execution_count": null,
      "outputs": []
    }
  ]
}